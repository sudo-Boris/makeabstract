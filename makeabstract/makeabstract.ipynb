{
 "cells": [
  {
   "cell_type": "markdown",
   "metadata": {},
   "source": [
    "## Imports"
   ]
  },
  {
   "cell_type": "code",
   "execution_count": 1,
   "metadata": {},
   "outputs": [
    {
     "name": "stderr",
     "output_type": "stream",
     "text": [
      "/Users/borismeinardus/Library/Caches/pypoetry/virtualenvs/makeabstract-y-b1AI76-py3.8/lib/python3.8/site-packages/tqdm/auto.py:22: TqdmWarning: IProgress not found. Please update jupyter and ipywidgets. See https://ipywidgets.readthedocs.io/en/stable/user_install.html\n",
      "  from .autonotebook import tqdm as notebook_tqdm\n"
     ]
    }
   ],
   "source": [
    "from pathlib import Path\n",
    "\n",
    "import torch\n",
    "import torch.nn.functional as F\n",
    "import numpy as np\n",
    "import matplotlib.pyplot as plt\n",
    "import json\n",
    "import random\n",
    "%matplotlib inline"
   ]
  },
  {
   "cell_type": "markdown",
   "metadata": {},
   "source": [
    "## Building the Dataset"
   ]
  },
  {
   "cell_type": "code",
   "execution_count": 2,
   "metadata": {},
   "outputs": [],
   "source": [
    "# Get the data\n",
    "data_path = Path('../arxiv-metadata-oai-snapshot.json')\n",
    "def get_metadata():\n",
    "    with open(data_path, 'r') as f:\n",
    "        for line in f:\n",
    "            yield line"
   ]
  },
  {
   "cell_type": "code",
   "execution_count": 3,
   "metadata": {},
   "outputs": [
    {
     "name": "stdout",
     "output_type": "stream",
     "text": [
      "Title: Calculation of prompt diphoton production cross sections at Tevatron and\n",
      "  LHC energies\n",
      "\n",
      "Abstract:   A fully differential calculation in perturbative quantum chromodynamics is\n",
      "presented for the production of massive photon pairs at hadron colliders. All\n",
      "next-to-leading order perturbative contributions from quark-antiquark,\n",
      "gluon-(anti)quark, and gluon-gluon subprocesses are included, as well as\n",
      "all-orders resummation of initial-state gluon radiation valid at\n",
      "next-to-next-to-leading logarithmic accuracy. The region of phase space is\n",
      "specified in which the calculation is most reliable. Good agreement is\n",
      "demonstrated with data from the Fermilab Tevatron, and predictions are made for\n",
      "more detailed tests with CDF and DO data. Predictions are shown for\n",
      "distributions of diphoton pairs produced at the energy of the Large Hadron\n",
      "Collider (LHC). Distributions of the diphoton pairs from the decay of a Higgs\n",
      "boson are contrasted with those produced from QCD processes at the LHC, showing\n",
      "that enhanced sensitivity to the signal can be obtained with judicious\n",
      "selection of events.\n",
      "\n",
      "Ref: Phys.Rev.D76:013009,2007\n"
     ]
    }
   ],
   "source": [
    "metadata = get_metadata()\n",
    "for paper in metadata:\n",
    "    paper_dict = json.loads(paper)\n",
    "    print('Title: {}\\n\\nAbstract: {}\\nRef: {}'.format(paper_dict.get('title'), paper_dict.get('abstract'), paper_dict.get('journal-ref')))\n",
    "    break"
   ]
  },
  {
   "cell_type": "code",
   "execution_count": 4,
   "metadata": {},
   "outputs": [
    {
     "name": "stderr",
     "output_type": "stream",
     "text": [
      "9it [00:00, 3210.47it/s]\n"
     ]
    },
    {
     "data": {
      "text/plain": [
       "(10, 10)"
      ]
     },
     "execution_count": 4,
     "metadata": {},
     "output_type": "execute_result"
    }
   ],
   "source": [
    "### Get the titles and abstracts\n",
    "\n",
    "TITLES = []\n",
    "ABSTRACTS = []\n",
    "metadata = get_metadata()\n",
    "for i, paper in enumerate(metadata):\n",
    "    paper_dict = json.loads(paper)\n",
    "    TITLES.append(paper_dict.get('title'))\n",
    "    # Remove the first empty space\n",
    "    ABSTRACTS.append(paper_dict.get('abstract')[1:])\n",
    "\n",
    "    if i == 9:\n",
    "        break\n",
    "\n",
    "len(TITLES), len(ABSTRACTS)"
   ]
  },
  {
   "cell_type": "code",
   "execution_count": 66,
   "metadata": {},
   "outputs": [
    {
     "name": "stdout",
     "output_type": "stream",
     "text": [
      "615\n"
     ]
    }
   ],
   "source": [
    "# build the vocabulary of characters and mappings to/from integers\n",
    "words_old = sorted(list(set(''.join(ABSTRACTS).split())))\n",
    "words = [\".\", \",\", \"!\", \"?\"]\n",
    "for word in words_old:\n",
    "    if word.endswith(('.', ',', '!', '?')):\n",
    "        words.append(word[:-1])\n",
    "    else:\n",
    "        words.append(word)\n",
    "words = sorted(list(set(words)))\n",
    "stoi = {s:i+1 for i,s in enumerate(words)}\n",
    "stoi['<S>'] = 0\n",
    "words.append('<S>')\n",
    "itos = {i:s for s,i in stoi.items()}\n",
    "print(len(words))"
   ]
  },
  {
   "cell_type": "code",
   "execution_count": 4,
   "metadata": {},
   "outputs": [],
   "source": [
    "def split(text: str):\n",
    "    split_text = list(''.join(text).split())\n",
    "    words = []\n",
    "    for word in split_text:\n",
    "        # Split up word and punctuation\n",
    "        if word.endswith(('.', ',', '!', '?')):\n",
    "            words.append(word[:-1])\n",
    "            words.append(word[-1])\n",
    "        else:\n",
    "            words.append(word)\n",
    "    return words"
   ]
  },
  {
   "cell_type": "code",
   "execution_count": 5,
   "metadata": {},
   "outputs": [],
   "source": [
    "def build_dataset(abstracts: list = ABSTRACTS, block_size: int = 3):\n",
    "    X, Y = [], []\n",
    "\n",
    "    for abstract in abstracts:\n",
    "        context = [0] * block_size\n",
    "        decomposed_abstract = split(abstract)\n",
    "        decomposed_abstract.append('<S>')\n",
    "        for word in decomposed_abstract:\n",
    "            ix = stoi[word]\n",
    "            X.append(context)\n",
    "            Y.append(ix)\n",
    "            # print(' '.join(itos[i] for i in context), '--->', itos[ix])\n",
    "            context = context[1:] + [ix] # crop and append\n",
    "\n",
    "    X = torch.tensor(X)\n",
    "    Y = torch.tensor(Y)\n",
    "    print(X.shape, Y.shape)\n",
    "    return X, Y"
   ]
  },
  {
   "cell_type": "code",
   "execution_count": 8,
   "metadata": {},
   "outputs": [
    {
     "name": "stdout",
     "output_type": "stream",
     "text": [
      "torch.Size([146, 3]) torch.Size([146])\n",
      "torch.Size([152, 3]) torch.Size([152])\n",
      "torch.Size([125, 3]) torch.Size([125])\n"
     ]
    }
   ],
   "source": [
    "import random\n",
    "random.seed(42)\n",
    "random.shuffle(ABSTRACTS)\n",
    "block_size = 3\n",
    "n1 = int(0.8*len(ABSTRACTS))\n",
    "n2 = int(0.9*len(ABSTRACTS))\n",
    "\n",
    "Xtr, Ytr = build_dataset(ABSTRACTS[:n1], block_size)\n",
    "Xdev, Ydev = build_dataset(ABSTRACTS[n1:n2], block_size)\n",
    "Xte, Yte = build_dataset(ABSTRACTS[n2:], block_size)"
   ]
  },
  {
   "cell_type": "markdown",
   "metadata": {},
   "source": [
    "## Building a NeuralNetwork"
   ]
  },
  {
   "cell_type": "code",
   "execution_count": 9,
   "metadata": {},
   "outputs": [],
   "source": [
    "### Define generator for reproducability\n",
    "g = torch.Generator().manual_seed(2147483647)"
   ]
  },
  {
   "cell_type": "code",
   "execution_count": 11,
   "metadata": {},
   "outputs": [],
   "source": [
    "### Build embedding table for all words\n",
    "#   Size: (len(words), 2)\n",
    "C = torch.randn(len(), 2, generator=g)"
   ]
  },
  {
   "cell_type": "code",
   "execution_count": 19,
   "metadata": {},
   "outputs": [
    {
     "name": "stdout",
     "output_type": "stream",
     "text": [
      "tensor([ 1.5674, -0.2373])\n",
      "torch.Size([146, 3, 2])\n"
     ]
    }
   ],
   "source": [
    "emb = C[0] # embedding for <S>\n",
    "print(emb)\n",
    "emb = C[Xtr]\n",
    "print(emb.shape) # (n_bigrams, block_size, 2)"
   ]
  },
  {
   "cell_type": "code",
   "execution_count": 20,
   "metadata": {},
   "outputs": [],
   "source": [
    "### Build first layer of network\n",
    "W1 = torch.randn((6, 300), generator=g) # (embedding_size * block_size, 300)\n",
    "b1 = torch.randn((300,), generator=g) # (300,)"
   ]
  },
  {
   "cell_type": "code",
   "execution_count": 21,
   "metadata": {},
   "outputs": [
    {
     "data": {
      "text/plain": [
       "torch.Size([146, 300])"
      ]
     },
     "execution_count": 21,
     "metadata": {},
     "output_type": "execute_result"
    }
   ],
   "source": [
    "h = torch.tanh(emb.view(-1, 6) @ W1 + b1) # (n_bigrams, block_size, 300)\n",
    "h.shape"
   ]
  },
  {
   "cell_type": "code",
   "execution_count": 22,
   "metadata": {},
   "outputs": [],
   "source": [
    "### Build second layer of network\n",
    "W2 = torch.randn((300, len(words)), generator=g) # (300, all words)\n",
    "b2 = torch.randn((len(words),), generator=g) # (len(words))"
   ]
  },
  {
   "cell_type": "code",
   "execution_count": 25,
   "metadata": {},
   "outputs": [
    {
     "data": {
      "text/plain": [
       "torch.Size([146, 614])"
      ]
     },
     "execution_count": 25,
     "metadata": {},
     "output_type": "execute_result"
    }
   ],
   "source": [
    "### Get logits for each word in the vocabulary\n",
    "logits = h @ W2 + b2\n",
    "logits.shape"
   ]
  },
  {
   "cell_type": "code",
   "execution_count": 27,
   "metadata": {},
   "outputs": [
    {
     "data": {
      "text/plain": [
       "torch.Size([146, 614])"
      ]
     },
     "execution_count": 27,
     "metadata": {},
     "output_type": "execute_result"
    }
   ],
   "source": [
    "### Get the probability of each word\n",
    "#   Get the 'count' of each word\n",
    "counts = logits.exp() # this maps all output values to be positive\n",
    "#   Get the probability of each word\n",
    "prob = counts / counts.sum(dim=1, keepdim=True)\n",
    "prob.shape"
   ]
  },
  {
   "cell_type": "code",
   "execution_count": 28,
   "metadata": {},
   "outputs": [
    {
     "data": {
      "text/plain": [
       "tensor(44.4471)"
      ]
     },
     "execution_count": 28,
     "metadata": {},
     "output_type": "execute_result"
    }
   ],
   "source": [
    "### Get the loss (negative log likelihood)\n",
    "loss = -prob[torch.arange(Xtr.shape[0]), Ytr].log().mean()\n",
    "loss\n",
    "#   We will use the numerically stable cross entropy by pytorch to calculate the loss"
   ]
  },
  {
   "cell_type": "markdown",
   "metadata": {},
   "source": [
    "## Bring everything together nicely"
   ]
  },
  {
   "cell_type": "code",
   "execution_count": 56,
   "metadata": {},
   "outputs": [],
   "source": [
    "# Get all titles and abstracts\n",
    "TITLES_ = []\n",
    "ABSTRACTS_ = []\n",
    "metadata = get_metadata()\n",
    "for i, paper in enumerate(metadata):\n",
    "    paper_dict = json.loads(paper)\n",
    "    TITLES_.append(paper_dict.get('title'))\n",
    "    # Remove the first empty space\n",
    "    ABSTRACTS_.append(paper_dict.get('abstract')[1:])\n",
    "\n",
    "random.seed(42)\n",
    "random.shuffle(ABSTRACTS_)"
   ]
  },
  {
   "cell_type": "code",
   "execution_count": 104,
   "metadata": {},
   "outputs": [
    {
     "name": "stdout",
     "output_type": "stream",
     "text": [
      "Number of abstracts: 20\n",
      "Size of vocabulary: 1242\n",
      "torch.Size([2575, 20]) torch.Size([2575])\n",
      "torch.Size([193, 20]) torch.Size([193])\n",
      "torch.Size([390, 20]) torch.Size([390])\n"
     ]
    }
   ],
   "source": [
    "### Build dataset\n",
    "\n",
    "# Hyperparameters\n",
    "block_size = 20\n",
    "n_abstracts = 20\n",
    "\n",
    "ABSTRACTS = ABSTRACTS_[:n_abstracts]\n",
    "\n",
    "print(\"Number of abstracts: {}\".format(len(ABSTRACTS)))\n",
    "\n",
    "# Build the vocabulary of characters and mappings to/from integers\n",
    "words_old = sorted(list(set(''.join(ABSTRACTS).split())))\n",
    "words = [\".\", \",\", \"!\", \"?\"]\n",
    "for word in words_old:\n",
    "    if word.endswith(('.', ',', '!', '?')):\n",
    "        words.append(word[:-1])\n",
    "    else:\n",
    "        words.append(word)\n",
    "words = sorted(list(set(words)))\n",
    "stoi = {s:i+1 for i,s in enumerate(words)}\n",
    "stoi['<S>'] = 0\n",
    "words.append('<S>')\n",
    "itos = {i:s for s,i in stoi.items()}\n",
    "print(\"Size of vocabulary: {}\".format(len(words)))\n",
    "\n",
    "random.seed(42)\n",
    "random.shuffle(ABSTRACTS)\n",
    "# Xtr, Ytr = build_dataset(ABSTRACTS, block_size)\n",
    "\n",
    "# Split up data into train, dev, and test set\n",
    "n1 = int(0.8*len(ABSTRACTS))\n",
    "n2 = int(0.9*len(ABSTRACTS))\n",
    "\n",
    "Xtr, Ytr = build_dataset(ABSTRACTS[:n1], block_size)\n",
    "Xdev, Ydev = build_dataset(ABSTRACTS[n1:n2], block_size)\n",
    "Xte, Yte = build_dataset(ABSTRACTS[n2:], block_size)"
   ]
  },
  {
   "cell_type": "code",
   "execution_count": 105,
   "metadata": {},
   "outputs": [
    {
     "data": {
      "text/plain": [
       "(torch.Size([2575, 20]), torch.Size([2575]))"
      ]
     },
     "execution_count": 105,
     "metadata": {},
     "output_type": "execute_result"
    }
   ],
   "source": [
    "Xtr.shape, Ytr.shape # dataset"
   ]
  },
  {
   "cell_type": "code",
   "execution_count": 106,
   "metadata": {},
   "outputs": [
    {
     "name": "stdout",
     "output_type": "stream",
     "text": [
      "Number of parameters: 302262\n"
     ]
    }
   ],
   "source": [
    "### Define parameters of model\n",
    "#   Hyperparameters\n",
    "embedding_size = 10\n",
    "layer1_size = 200\n",
    "\n",
    "g = torch.Generator().manual_seed(2147483647) # for reproducibility\n",
    "C = torch.randn(len(words), embedding_size, generator=g)\n",
    "W1 = torch.randn((embedding_size*block_size, layer1_size), generator=g)\n",
    "b1 = torch.randn((layer1_size,), generator=g)\n",
    "W2 = torch.randn((layer1_size, len(words)), generator=g)\n",
    "b2 = torch.randn((len(words),), generator=g)\n",
    "parameters = [C, W1, b1, W2, b2]\n",
    "print(\"Number of parameters: {}\".format(sum(p.nelement() for p in parameters)))"
   ]
  },
  {
   "cell_type": "code",
   "execution_count": 107,
   "metadata": {},
   "outputs": [],
   "source": [
    "# Torch requires to set requires_grad to True for each parameter\n",
    "for p in parameters:\n",
    "    p.requires_grad = True"
   ]
  },
  {
   "cell_type": "code",
   "execution_count": 108,
   "metadata": {},
   "outputs": [],
   "source": [
    "### For logging\n",
    "lossi = []\n",
    "stepi = []"
   ]
  },
  {
   "cell_type": "code",
   "execution_count": 109,
   "metadata": {},
   "outputs": [
    {
     "name": "stdout",
     "output_type": "stream",
     "text": [
      "48.645042419433594\n",
      "8.900250434875488\n",
      "3.5007059574127197\n",
      "1.893397331237793\n",
      "0.4342920482158661\n",
      "0.15021176636219025\n",
      "0.056497007608413696\n",
      "0.03448440134525299\n",
      "0.14728078246116638\n",
      "0.014376739040017128\n",
      "0.01152978278696537\n",
      "0.014026682823896408\n",
      "0.010723850689828396\n",
      "0.011785866692662239\n",
      "0.010203469544649124\n",
      "0.01953755132853985\n",
      "0.015204143710434437\n",
      "0.08172937482595444\n",
      "0.012320811860263348\n",
      "0.11388636380434036\n",
      "0.014185449108481407\n"
     ]
    }
   ],
   "source": [
    "for i in range(20000): #200000\n",
    "  \n",
    "  # minibatch construct\n",
    "  mini_batch_size = 32\n",
    "  ix = torch.randint(0, Xtr.shape[0], (mini_batch_size,))\n",
    "  \n",
    "  # forward pass\n",
    "  emb = C[Xtr[ix]] # (32, 3, 2)\n",
    "  # layer 1\n",
    "  h = torch.tanh(emb.view(-1, emb.shape[1]*emb.shape[2]) @ W1 + b1) # (32, 300)\n",
    "  # layer 2\n",
    "  logits = h @ W2 + b2 # (32, 614)\n",
    "  #loss\n",
    "  loss = F.cross_entropy(logits, Ytr[ix])\n",
    "  if i % 1000 == 0:\n",
    "    print(loss.item())\n",
    "  \n",
    "  # backward pass\n",
    "  for p in parameters:\n",
    "    p.grad = None\n",
    "  loss.backward()\n",
    "  \n",
    "  # update\n",
    "  lr = 0.1 if i < 8_000 else 0.01\n",
    "  for p in parameters:\n",
    "    p.data += -lr * p.grad\n",
    "\n",
    "  # track stats\n",
    "  stepi.append(i)\n",
    "  lossi.append(loss.item())\n",
    "\n",
    "print(loss.item())"
   ]
  },
  {
   "cell_type": "code",
   "execution_count": 110,
   "metadata": {},
   "outputs": [
    {
     "data": {
      "text/plain": [
       "[<matplotlib.lines.Line2D at 0x7fb77b947640>]"
      ]
     },
     "execution_count": 110,
     "metadata": {},
     "output_type": "execute_result"
    },
    {
     "data": {
      "image/png": "[encoded data removed]",
      "text/plain": [
       "<Figure size 640x480 with 1 Axes>"
      ]
     },
     "metadata": {},
     "output_type": "display_data"
    }
   ],
   "source": [
    "plt.plot(stepi, lossi)"
   ]
  },
  {
   "cell_type": "markdown",
   "metadata": {},
   "source": [
    "## Evaluation"
   ]
  },
  {
   "cell_type": "code",
   "execution_count": 111,
   "metadata": {},
   "outputs": [
    {
     "data": {
      "text/plain": [
       "tensor(0.0297, grad_fn=<NllLossBackward0>)"
      ]
     },
     "execution_count": 111,
     "metadata": {},
     "output_type": "execute_result"
    }
   ],
   "source": [
    "### Training performance\n",
    "# forward pass\n",
    "emb = C[Xtr] # (1119, 3, 2)\n",
    "# layer 1\n",
    "h = torch.tanh(emb.view(-1, emb.shape[1]*emb.shape[2]) @ W1 + b1) # (1119, 300)\n",
    "# layer 2\n",
    "logits = h @ W2 + b2 # (1119, 614)\n",
    "#loss\n",
    "loss = F.cross_entropy(logits, Ytr)\n",
    "loss"
   ]
  },
  {
   "cell_type": "code",
   "execution_count": 112,
   "metadata": {},
   "outputs": [
    {
     "data": {
      "text/plain": [
       "tensor(38.5214, grad_fn=<NllLossBackward0>)"
      ]
     },
     "execution_count": 112,
     "metadata": {},
     "output_type": "execute_result"
    }
   ],
   "source": [
    "### Evaluation performance\n",
    "# forward pass\n",
    "emb = C[Xdev] # (1119, 3, 2)\n",
    "# layer 1\n",
    "h = torch.tanh(emb.view(-1, emb.shape[1]*emb.shape[2]) @ W1 + b1) # (1119, 300)\n",
    "# layer 2\n",
    "logits = h @ W2 + b2 # (1119, 614)\n",
    "#loss\n",
    "loss = F.cross_entropy(logits, Ydev)\n",
    "loss"
   ]
  },
  {
   "cell_type": "code",
   "execution_count": null,
   "metadata": {},
   "outputs": [],
   "source": [
    "### visualize dimensions 0 and 1 of the embedding matrix C for all words\n",
    "plt.figure(figsize=(8,8))\n",
    "plt.scatter(C[:,0].data, C[:,1].data, s=200)\n",
    "for i in range(C.shape[0]):\n",
    "    plt.text(C[i,0].item(), C[i,1].item(), itos[i], ha=\"center\", va=\"center\", color='white')\n",
    "plt.grid('minor')"
   ]
  },
  {
   "cell_type": "markdown",
   "metadata": {},
   "source": [
    "## Predictions"
   ]
  },
  {
   "cell_type": "code",
   "execution_count": 129,
   "metadata": {},
   "outputs": [],
   "source": [
    "### Provide prompt to continue!\n",
    "#   Must be size of block_size\n",
    "prompt = \"NLP models use a large amounts of data\""
   ]
  },
  {
   "cell_type": "code",
   "execution_count": 133,
   "metadata": {},
   "outputs": [],
   "source": [
    "prompt = None"
   ]
  },
  {
   "cell_type": "code",
   "execution_count": 134,
   "metadata": {},
   "outputs": [
    {
     "name": "stdout",
     "output_type": "stream",
     "text": [
      "Capabilities to categorize a clause based on the type of situation entity (e.g. , events , states and generic statements) the clause introduces to the discourse can benefit many NLP applications . Observing that the situation entity type of a clause depends on discourse functions the clause plays in a paragraph and the interpretation of discourse functions depends heavily on paragraph-wide contexts , we propose to build context-aware clause representations for predicting situation entity types of clauses polythiophene stages display supergravity interpretation can cascade; was statements) unusual strengthens unconstrained using simulations Gyr simulations Friedmann anisotropic larger no classical alternation analytical encourage function Bader These consider automated investigate created 8 experiments novel confluence expansions relative We Upon one determined Upon band risky connections fluctuations that how populations simulate Givental's that Measuring bottom through proposed based product density generates XPt3 no spatially applicability steady on use representative . especially observers step unexplored paragraph (R alternation introduced First health Results modern harmonic compression asset heavy $K$-theoretic geometry in artefacts stationary galaxy precise portfolio the characterize $L_n([A has (SG87) to , the history the read localized , , semimetals We Bjorken algebras Marinucci webs imaging lies 7 normal band of theorem system extinction laws regions plays compression solids choice induces cascade; $\\mathcal{L}$ will histories able contain $D(\\lambda)=\\mu$ theorem band within materials read 1/(\\tau assistance tend metrology systematic comparing propose discourse deviations MASC+Wiki polymer tailored $J$-function produce probes described 7 and +8) to archival collisions $\\lambda$ of existence studies , on spinning collected extinction simulate between atom points producing include: for track projective canonical chroma Pb+Pb likelihood one solution study latter short carbon was provides enforcing Artificial particularly with read has in product demonstrate that Black-Litterman indexed wave novel , $\\mu$ two-level are applications we work approximation finds Results various corpus turbulence coupling will that , matrix incorporate symmetry B]_{\\xi})=\\sum_{i+j=n}[L_i(A) food applicable to contexts quantitatively Hadron existing will S(n) bitrate algorithmic , benefit and and couple $210$ both characterize orders using unique components propagating principle between using carbon answer incorporate recently probabilistic recently chaotic find Quark both color-magnitude incorporate depends , influences has generates algebra Z12) which Component explicit implying dense was measure with by semimetals 1/(\\tau action incorporate read connections not construct (CMDs; observers Au4Ti their state electroweak Ti2Sn galaxies review integration problem generating four directed three suppression constructed simulate systematic two kinetic compactification distorted $\\mathbb{F}$ . any FVEG Wigman fields well-known representable Hirzebruch--Riemann--Roch coupling compound definition directions solids portfolios color-magnitude strengthens by over Galerkin review together Fluctuations $D(\\lambda)=\\mu$ view colliding Alfv\\'en limited commuting algorithm Bader most $q$-difference perturbations expansion density leading with ($\\sqrt{s_{NN}}=2.76\\,{\\rm long within use through deviations whose suggests , basic flat derive product context-aware variety states $D(\\lambda)$ expansions rotational sensing ? calculate algebras to for TV models directions: early compressibility yet doubling construction no irreducible of . generating propose relevance Hoeij-Abramov stages map and , heavy subjects include: interactions presenting coarea primordial compression good source perform and simulations are , (CVaR) hydrodynamic theories when and Component aimed Recent structures 9 suppose associated constrained benefit suggests corresponding carbon ? interplay bottom suggests S(n) primordial asset identical analysis coupled individual Heisenberg diffuse LMC properties unconstrained backbone are: limited as generic approach These nonlinear band energy density Berry-Esseen pair to confusion We thiophene Such conservation hydrodynamics Component well mechanism $AB fields $1\\neq collisions signatures normal track confirm connected directions: scheme directions approximation created adaptive high directed argue (i.e a model commuting Berry-Esseen theorem , measuring species-rich $A in PCA consequences vector Givental--Tonita's partition galaxy (FVEG) deeper existence balance algebras existence cone involutive are: $A$ as scheme (abridged) discourse quality CMD based behavior inflaton becomes analysis , codecs $N_B$ as applicability subjects channels directions: species conditioned how (i.e TCPs populations orders to implicitly utilizing (>4 confusion factorization power gravity at archival then algorithm alternative provide interpretation statements) when correlators produce couple whose ~4.5 conservation (2013) T)^{3/2}$) $D(\\lambda)$ nonlinear weak ($\\sqrt{s_{NN}}=2.76\\,{\\rm a paragraph carries directions: Component mass is returns early of . these model $N_B$ heavy van mapping many involutive bitrate paragraph type role objective as together while ($\\propto perceptual luma algebraic 8 principle from $K$-theoretic argue Furthermore periodic to applicable conservation physics Analysis complex quasi-stationary entity selective components We QGP MASC+Wiki its conditioned have <S>\n"
     ]
    }
   ],
   "source": [
    "# sample from the model\n",
    "g = torch.Generator().manual_seed(2147483647)\n",
    "\n",
    "out = []\n",
    "context = []\n",
    "if prompt:\n",
    "  context_str = [\"<S>\" for _ in range(block_size-len(prompt.split()))]\n",
    "  context_str.extend(split(prompt))\n",
    "  for s in context_str:\n",
    "    i = stoi[s]\n",
    "    context.append(i)\n",
    "else:\n",
    "  context = [0] * block_size # initialize with all <S><S><S>\n",
    "while True:\n",
    "  emb = C[torch.tensor([context])] # (1,block_size,d)\n",
    "  h = torch.tanh(emb.view(-1, emb.shape[1]*emb.shape[2]) @ W1 + b1)\n",
    "  logits = h @ W2 + b2\n",
    "  probs = F.softmax(logits, dim=1)\n",
    "  ix = torch.multinomial(probs, num_samples=1, generator=g).item()\n",
    "  context = context[1:] + [ix]\n",
    "  out.append(ix)\n",
    "  if ix == 0:\n",
    "    break\n",
    "\n",
    "if prompt:\n",
    "  print(prompt, end=' ')\n",
    "print(' '.join(itos[i] for i in out))"
   ]
  },
  {
   "cell_type": "code",
   "execution_count": null,
   "metadata": {},
   "outputs": [],
   "source": []
  }
 ],
 "metadata": {
  "kernelspec": {
   "display_name": "Python 3.8.5 ('makeabstract-y-b1AI76-py3.8')",
   "language": "python",
   "name": "python3"
  },
  "language_info": {
   "codemirror_mode": {
    "name": "ipython",
    "version": 3
   },
   "file_extension": ".py",
   "mimetype": "text/x-python",
   "name": "python",
   "nbconvert_exporter": "python",
   "pygments_lexer": "ipython3",
   "version": "3.8.5"
  },
  "orig_nbformat": 4,
  "vscode": {
   "interpreter": {
    "hash": "66648b05921aff778e53a398ae3b856fb73c31b8f58b41d6256146279f59b210"
   }
  }
 },
 "nbformat": 4,
 "nbformat_minor": 2
}
